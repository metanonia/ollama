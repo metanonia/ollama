{
 "cells": [
  {
   "cell_type": "code",
   "execution_count": 1,
   "metadata": {},
   "outputs": [
    {
     "data": {
      "text/plain": [
       "True"
      ]
     },
     "execution_count": 1,
     "metadata": {},
     "output_type": "execute_result"
    }
   ],
   "source": [
    "from dotenv import load_dotenv\n",
    "load_dotenv()"
   ]
  },
  {
   "cell_type": "markdown",
   "metadata": {},
   "source": [
    "ollama pull gemma3"
   ]
  },
  {
   "cell_type": "code",
   "execution_count": 3,
   "metadata": {},
   "outputs": [],
   "source": [
    "from typing import Annotated\n",
    "\n",
    "from typing_extensions import TypedDict\n",
    "\n",
    "from langgraph.graph import StateGraph, START, END\n",
    "from langgraph.graph.message import add_messages\n",
    "\n",
    "\n",
    "class State(TypedDict):\n",
    "    # Messages have the type \"list\". The `add_messages` function\n",
    "    # in the annotation defines how this state key should be updated\n",
    "    # (in this case, it appends messages to the list, rather than overwriting them)\n",
    "    messages: Annotated[list, add_messages]\n",
    "\n",
    "\n",
    "graph_builder = StateGraph(State)"
   ]
  },
  {
   "cell_type": "code",
   "execution_count": 3,
   "metadata": {},
   "outputs": [
    {
     "data": {
      "text/plain": [
       "<langgraph.graph.state.StateGraph at 0x112646390>"
      ]
     },
     "execution_count": 3,
     "metadata": {},
     "output_type": "execute_result"
    }
   ],
   "source": [
    "from langchain_ollama import ChatOllama\n",
    "\n",
    "llm = ChatOllama(model=\"gemma3\")\n",
    "\n",
    "\n",
    "def chatbot(state: State):\n",
    "    return {\"messages\": [llm.invoke(state[\"messages\"])]}\n",
    "\n",
    "\n",
    "# The first argument is the unique node name\n",
    "# The second argument is the function or object that will be called whenever\n",
    "# the node is used.\n",
    "graph_builder.add_node(\"chatbot\", chatbot)"
   ]
  },
  {
   "cell_type": "code",
   "execution_count": 4,
   "metadata": {},
   "outputs": [],
   "source": [
    "graph_builder.add_edge(START, \"chatbot\")\n",
    "graph_builder.add_edge(\"chatbot\", END)\n",
    "graph = graph_builder.compile()"
   ]
  },
  {
   "cell_type": "code",
   "execution_count": 5,
   "metadata": {},
   "outputs": [
    {
     "data": {
      "image/png": "[encoded data removed]",
      "text/plain": [
       "<IPython.core.display.Image object>"
      ]
     },
     "metadata": {},
     "output_type": "display_data"
    }
   ],
   "source": [
    "from IPython.display import Image, display\n",
    "\n",
    "try:\n",
    "    display(Image(graph.get_graph().draw_mermaid_png()))\n",
    "except Exception:\n",
    "    # This requires some extra dependencies and is optional\n",
    "    pass"
   ]
  },
  {
   "cell_type": "code",
   "execution_count": 6,
   "metadata": {},
   "outputs": [
    {
     "name": "stdout",
     "output_type": "stream",
     "text": [
      "{'chatbot': {'messages': [AIMessage(content=\"Hi there! How's your day going so far? Is there anything you'd like to talk about, or were you just saying hello? 😊 \\n\\nI can help you with all sorts of things – answering questions, writing stories, brainstorming ideas, translating languages, and much more. Just let me know what you have in mind!\", additional_kwargs={}, response_metadata={'model': 'gemma3', 'created_at': '2025-03-13T14:22:20.884866Z', 'done': True, 'done_reason': 'stop', 'total_duration': 22070557208, 'load_duration': 13609351052, 'prompt_eval_count': 10, 'prompt_eval_duration': 724000000, 'eval_count': 70, 'eval_duration': 7735000000, 'message': Message(role='assistant', content='', images=None, tool_calls=None)}, id='run-03bcd2d3-bbeb-4b76-afc8-a9d7b56aca19-0', usage_metadata={'input_tokens': 10, 'output_tokens': 70, 'total_tokens': 80})]}}\n",
      "Assistant: Hi there! How's your day going so far? Is there anything you'd like to talk about, or were you just saying hello? 😊 \n",
      "\n",
      "I can help you with all sorts of things – answering questions, writing stories, brainstorming ideas, translating languages, and much more. Just let me know what you have in mind!\n",
      "{'chatbot': {'messages': [AIMessage(content='저는 구글에서 개발한 대규모 언어 모델입니다. 사람처럼 대화를 나누고, 질문에 답변하며, 다양한 종류의 텍스트를 생성할 수 있습니다. \\n\\n저는 이름이 있는 존재가 아니라, 인공지능 모델이라는 점을 기억해주세요. 😊\\n', additional_kwargs={}, response_metadata={'model': 'gemma3', 'created_at': '2025-03-13T14:23:11.329546Z', 'done': True, 'done_reason': 'stop', 'total_duration': 7156059504, 'load_duration': 46154358, 'prompt_eval_count': 14, 'prompt_eval_duration': 272000000, 'eval_count': 61, 'eval_duration': 6836000000, 'message': Message(role='assistant', content='', images=None, tool_calls=None)}, id='run-68ea30dc-4d2c-4b7f-9784-32f46ea69409-0', usage_metadata={'input_tokens': 14, 'output_tokens': 61, 'total_tokens': 75})]}}\n",
      "Assistant: 저는 구글에서 개발한 대규모 언어 모델입니다. 사람처럼 대화를 나누고, 질문에 답변하며, 다양한 종류의 텍스트를 생성할 수 있습니다. \n",
      "\n",
      "저는 이름이 있는 존재가 아니라, 인공지능 모델이라는 점을 기억해주세요. 😊\n",
      "\n",
      "Goodbye!\n"
     ]
    }
   ],
   "source": [
    "def stream_graph_updates(user_input: str):\n",
    "    for event in graph.stream({\"messages\": [{\"role\": \"user\", \"content\": user_input}]}):\n",
    "        print(event)\n",
    "        for value in event.values():\n",
    "            print(\"Assistant:\", value[\"messages\"][-1].content)\n",
    "\n",
    "\n",
    "while True:\n",
    "    try:\n",
    "        user_input = input(\"User: \")\n",
    "        if user_input.lower() in [\"quit\", \"exit\", \"q\"]:\n",
    "            print(\"Goodbye!\")\n",
    "            break\n",
    "\n",
    "        stream_graph_updates(user_input)\n",
    "    except:\n",
    "        # fallback if input() is not available\n",
    "        user_input = \"What do you know about LangGraph?\"\n",
    "        print(\"User: \" + user_input)\n",
    "        stream_graph_updates(user_input)\n",
    "        break"
   ]
  },
  {
   "cell_type": "code",
   "execution_count": 4,
   "metadata": {},
   "outputs": [
    {
     "data": {
      "text/plain": [
       "<langgraph.graph.state.StateGraph at 0x1117e2990>"
      ]
     },
     "execution_count": 4,
     "metadata": {},
     "output_type": "execute_result"
    }
   ],
   "source": [
    "from langchain_ollama import OllamaLLM\n",
    "\n",
    "# Ollama 모델 지정\n",
    "llm = OllamaLLM(model=\"gemma3\")  # 사용할 모델 (예: \"phi\", \"mistral\", \"llama3\")\n",
    "\n",
    "# 챗봇 함수 정의\n",
    "def chatbot(state: State):\n",
    "    return {\"messages\": [llm.invoke(state[\"messages\"])]}\n",
    "\n",
    "# 그래프에 챗봇 노드 추가\n",
    "graph_builder.add_node(\"chatbot\", chatbot)"
   ]
  },
  {
   "cell_type": "code",
   "execution_count": 5,
   "metadata": {},
   "outputs": [],
   "source": [
    "graph_builder.add_edge(START, \"chatbot\")\n",
    "graph_builder.add_edge(\"chatbot\", END)\n",
    "graph = graph_builder.compile()"
   ]
  },
  {
   "cell_type": "code",
   "execution_count": 6,
   "metadata": {},
   "outputs": [
    {
     "data": {
      "image/png": "[encoded data removed]",
      "text/plain": [
       "<IPython.core.display.Image object>"
      ]
     },
     "metadata": {},
     "output_type": "display_data"
    }
   ],
   "source": [
    "from IPython.display import Image, display\n",
    "\n",
    "try:\n",
    "    display(Image(graph.get_graph().draw_mermaid_png()))\n",
    "except Exception:\n",
    "    # This requires some extra dependencies and is optional\n",
    "    pass"
   ]
  },
  {
   "cell_type": "code",
   "execution_count": 8,
   "metadata": {},
   "outputs": [
    {
     "name": "stdout",
     "output_type": "stream",
     "text": [
      "{'messages': [HumanMessage(content='나트륨을 물에 넣으면 어떻게 되나?', additional_kwargs={}, response_metadata={}, id='c1f14735-b8d6-46ca-a6b4-19bde4ee2d88'), HumanMessage(content='나트륨(소금)을 물에 넣으면 다음과 같은 현상이 일어납니다.\\n\\n**1. 전기 전도성 증가:**\\n\\n* 나트륨은 물에 녹으면 이온 형태로 존재하며, 이 이온들은 전하를 띤 상태입니다.\\n* 이 이온들이 움직일 수 있게 되어 물이 전기를 잘 통하게 됩니다. 즉, 전기 전도성이 높아집니다.\\n* 이 때문에 나트륨 용액은 전기 배터리나 전해액으로 사용될 수 있습니다.\\n\\n**2. pH 변화 (약한 산성):**\\n\\n* 나트륨염(소금)은 일반적으로 중성 pH를 가집니다. 하지만 물에 녹으면 약간의 산성 환경을 만듭니다.\\n* 이는 물에 존재하는 수소 이온(H+) 때문입니다.\\n\\n**3. 기타 현상:**\\n\\n* **끓는점 상승:** 물에 용해된 나트륨 이온은 물 분자와 결합하여 물의 끓는점을 약간 높일 수 있습니다.\\n* **어는점 하강:** 마찬가지로 나트륨 이온의 존재는 물의 어는점을 약간 낮춥니다. (빙점강하 현상)\\n\\n**주의사항:**\\n\\n* 나트륨 용액은 피부에 닿으면 자극을 유발할 수 있으므로 주의해야 합니다.\\n* 실험 시에는 안전 장비를 착용하고, 전문가의 지도하에 진행하는 것이 좋습니다.\\n\\n**참고:**\\n\\n* 나트륨 이온(Na+)은 생체 내에서 중요한 역할을 합니다. 예를 들어, 신경 신호 전달, 체액 균형 유지 등에 관여합니다.\\n\\n궁금한 점이 있다면 언제든지 다시 질문해주세요.', additional_kwargs={}, response_metadata={}, id='10b69bb7-3a69-4b15-976a-190942d2f330')]}\n"
     ]
    }
   ],
   "source": [
    "state = State(messages=[\"나트륨을 물에 넣으면 어떻게 되나?\"])\n",
    "output = graph.invoke(state)\n",
    "print(output)"
   ]
  },
  {
   "cell_type": "code",
   "execution_count": 9,
   "metadata": {},
   "outputs": [
    {
     "name": "stdout",
     "output_type": "stream",
     "text": [
      "{'chatbot': {'messages': ['나트륨(소금)을 물에 넣으면 다음과 같은 현상이 일어납니다.\\n\\n**1. 전해질 형성 및 전기 전도성 증가:**\\n\\n*   나트륨은 물에 녹으면 나트륨 이온(Na⁺)과 수산화나트륨 이온(OH⁻)으로 해리됩니다.\\n*   이러한 이온들은 물 분자 사이에서 움직이며 전기 전도성을 증가시킵니다. 즉, 물이 전기가 잘 통하게 됩니다.\\n*   전기 전도성은 나트륨의 농도에 따라 달라집니다. 즉, 소금의 양이 많을수록 전기 전도성이 높아집니다.\\n\\n**2. 온도 상승:**\\n\\n*   나트륨 이온이 물 분자와 충돌하면서 열에너지로 변환됩니다. 이 과정에서 물의 온도가 약간 상승합니다. (미미한 정도)\\n\\n**3. 침전 현상 (고농도):**\\n\\n*   나트륨 농도가 매우 높으면, 물에 녹아 있던 나트륨이 다시 침전되어 흰색의 결정 형태로 남을 수 있습니다. 이는 나트륨의 과도한 농도로 인해 물에 더 이상 녹을 수 없기 때문입니다.\\n\\n**4. 기타:**\\n\\n*   나트륨은 우리 몸의 체액 균형을 유지하는 데 중요한 역할을 하므로, 과도한 나트륨을 물에 넣는 것은 건강에 좋지 않습니다.\\n\\n**주의:** 실험을 위해 나트륨을 물에 넣는 것은 매우 위험할 수 있습니다. 나트륨은 피부에 닿으면 화상을 유발할 수 있으며, 눈에 들어가면 심각한 손상을 입을 수 있습니다. 절대 시도하지 마십시오.\\n\\n**참고:** 이 정보는 일반적인 현상을 설명한 것이며, 실험 결과는 조건에 따라 다를 수 있습니다.']}}\n"
     ]
    }
   ],
   "source": [
    "for update in graph.stream(state):\n",
    "    print(update)"
   ]
  },
  {
   "cell_type": "code",
   "execution_count": 22,
   "metadata": {},
   "outputs": [
    {
     "name": "stdout",
     "output_type": "stream",
     "text": [
      "Goodbye!\n"
     ]
    }
   ],
   "source": [
    "def stream_graph_updates(user_input: str):\n",
    "    for event in graph.stream({\"messages\": [{\"role\": \"user\", \"content\": user_input}]}):\n",
    "        # 이벤트 구조: {'chatbot': {'messages': [메시지 내용]}}\n",
    "        if 'chatbot' in event and 'messages' in event['chatbot']:\n",
    "            messages = event['chatbot']['messages']\n",
    "            if messages and len(messages) > 0:\n",
    "                # 메시지가 문자열 목록인 경우\n",
    "                if isinstance(messages[-1], str):\n",
    "                    print(\"Assistant:\", messages[-1])\n",
    "                # 메시지가 딕셔너리인 경우 (role, content 포맷)\n",
    "                elif isinstance(messages[-1], dict) and 'content' in messages[-1]:\n",
    "                    print(\"Assistant:\", messages[-1]['content'])\n",
    "\n",
    "while True:\n",
    "    try:\n",
    "        user_input = input(\"User: \")\n",
    "        if user_input in [\"quit\", \"exit\", \"q\"]:\n",
    "            print(\"Goodbye!\")\n",
    "            break\n",
    "        print(\"===============================\")\n",
    "        print(user_input)\n",
    "        stream_graph_updates(user_input)\n",
    "    except Exception as e:\n",
    "        print(f\"⚠️ Error: {e}\")  # 에러 메시지 출력\n",
    "        # fallback if input() is not available\n",
    "        user_input = \"What do you know about LangGraph?\"\n",
    "        print(\"User: \" + user_input)\n",
    "        stream_graph_updates(user_input)\n",
    "        break"
   ]
  },
  {
   "cell_type": "code",
   "execution_count": 11,
   "metadata": {},
   "outputs": [
    {
     "data": {
      "text/plain": [
       "[{'title': \"Beginner's Guide to LangGraph: Understanding State, Nodes, and ...\",\n",
       "  'url': 'https://medium.com/@kbdhunga/beginners-guide-to-langgraph-understanding-state-nodes-and-edges-part-1-897e6114fa48',\n",
       "  'content': \"Beginner’s Guide to LangGraph: Understanding State, Nodes, and Edges — Part 1 | by Kamal Dhungana | Medium Beginner’s Guide to LangGraph: Understanding State, Nodes, and Edges — Part 1 LangGraph — State, Node and Edge Explained Mainly, we will focus on various components of LangGraph: State, Node, and Edges, and how to build a complete graph from these components. Once we understand these components, we will be able to build relatively complex LangGraph-based agents. Each node represents a specific function or operation that processes the current state. Nodes can perform computations, modify the state, or generate outputs based on the input they receive. Follow 1.2K Followers Data scientist with a passion for AI, Regularly blogging about LLM and OpenAI's innovations,Sharing insights for AI community growth Follow\",\n",
       "  'score': 0.74961954},\n",
       " {'title': 'LangGraph Glossary - GitHub Pages',\n",
       "  'url': 'https://langchain-ai.github.io/langgraph/concepts/low_level/',\n",
       "  'content': '[](https://langchain-ai.github.io/langgraph/concepts/low_level/#__codelineno-1-19)def node_2(state: OverallState) -> PrivateState: [](https://langchain-ai.github.io/langgraph/concepts/low_level/#__codelineno-1-25)    return {\"graph_output\": state[\"bar\"] + \" Lance\"} [](https://langchain-ai.github.io/langgraph/concepts/low_level/#__codelineno-1-31)builder.add_edge(START, \"node_1\") [](https://langchain-ai.github.io/langgraph/concepts/low_level/#__codelineno-7-13)def my_other_node(state: dict): [](https://langchain-ai.github.io/langgraph/concepts/low_level/#__codelineno-9-3)graph.add_edge(START, \"node_a\") [](https://langchain-ai.github.io/langgraph/concepts/low_level/#__codelineno-10-3)graph.add_edge(\"node_a\", END) [](https://langchain-ai.github.io/langgraph/concepts/low_level/#__codelineno-11-1)graph.add_edge(\"node_a\", \"node_b\") [](https://langchain-ai.github.io/langgraph/concepts/low_level/#__codelineno-12-1)graph.add_conditional_edges(\"node_a\", routing_function) [](https://langchain-ai.github.io/langgraph/concepts/low_level/#__codelineno-13-1)graph.add_conditional_edges(\"node_a\", routing_function, {True: \"node_b\", False: \"node_c\"}) [](https://langchain-ai.github.io/langgraph/concepts/low_level/#__codelineno-14-3)graph.add_edge(START, \"node_a\") [](https://langchain-ai.github.io/langgraph/concepts/low_level/#__codelineno-15-3)graph.add_conditional_edges(START, routing_function) [](https://langchain-ai.github.io/langgraph/concepts/low_level/#__codelineno-16-1)graph.add_conditional_edges(START, routing_function, {True: \"node_b\", False: \"node_c\"}) [](https://langchain-ai.github.io/langgraph/concepts/low_level/#__codelineno-17-4)graph.add_conditional_edges(\"node_a\", continue_to_jokes) [](https://langchain-ai.github.io/langgraph/concepts/low_level/#__codelineno-20-4)        goto=\"other_subgraph\",  # where `other_subgraph` is a node in the parent graph [](https://langchain-ai.github.io/langgraph/concepts/low_level/#__codelineno-22-4)graph = StateGraph(State, config_schema=ConfigSchema) [](https://langchain-ai.github.io/langgraph/concepts/low_level/#__codelineno-24-1)def node_a(state, config): [](https://langchain-ai.github.io/langgraph/concepts/low_level/#__codelineno-26-3)def human_approval_node(state: State): [](https://langchain-ai.github.io/langgraph/concepts/low_level/#__codelineno-29-8)    foo: str  # note that this key is shared with the parent graph state [](https://langchain-ai.github.io/langgraph/concepts/low_level/#__codelineno-29-12)def subgraph_node(state: SubgraphState): [](https://langchain-ai.github.io/langgraph/concepts/low_level/#__codelineno-29-13)    # note that this subgraph node can communicate with the parent graph via the shared \"foo\" key [](https://langchain-ai.github.io/langgraph/concepts/low_level/#__codelineno-30-5)    # note that none of these keys are shared with the parent graph state [](https://langchain-ai.github.io/langgraph/concepts/low_level/#__codelineno-30-10)def subgraph_node(state: SubgraphState):',\n",
       "  'score': 0.6063825}]"
      ]
     },
     "execution_count": 11,
     "metadata": {},
     "output_type": "execute_result"
    }
   ],
   "source": [
    "from langchain_community.tools.tavily_search import TavilySearchResults\n",
    "\n",
    "tool = TavilySearchResults(max_results=2)\n",
    "tools = [tool]\n",
    "tool.invoke(\"What's a 'node' in LangGraph?\")"
   ]
  },
  {
   "cell_type": "code",
   "execution_count": 17,
   "metadata": {},
   "outputs": [
    {
     "data": {
      "text/plain": [
       "<langgraph.graph.state.StateGraph at 0x112c57fe0>"
      ]
     },
     "execution_count": 17,
     "metadata": {},
     "output_type": "execute_result"
    }
   ],
   "source": [
    "from typing import Annotated\n",
    "\n",
    "from langchain_ollama import ChatOllama\n",
    "from typing_extensions import TypedDict\n",
    "\n",
    "from langgraph.graph import StateGraph, START, END\n",
    "from langgraph.graph.message import add_messages\n",
    "\n",
    "\n",
    "class State(TypedDict):\n",
    "    messages: Annotated[list, add_messages]\n",
    "\n",
    "\n",
    "graph_builder = StateGraph(State)\n",
    "\n",
    "\n",
    "llm = ChatOllama(model=\"mistral\")\n",
    "# Modification: tell the LLM which tools it can call\n",
    "llm_with_tools = llm.bind_tools(tools)\n",
    "\n",
    "\n",
    "def chatbot(state: State):\n",
    "    return {\"messages\": [llm_with_tools.invoke(state[\"messages\"])]}\n",
    "\n",
    "\n",
    "graph_builder.add_node(\"chatbot\", chatbot)"
   ]
  },
  {
   "cell_type": "code",
   "execution_count": 18,
   "metadata": {},
   "outputs": [
    {
     "data": {
      "text/plain": [
       "<langgraph.graph.state.StateGraph at 0x112c57fe0>"
      ]
     },
     "execution_count": 18,
     "metadata": {},
     "output_type": "execute_result"
    }
   ],
   "source": [
    "import json\n",
    "\n",
    "from langchain_core.messages import ToolMessage\n",
    "\n",
    "\n",
    "class BasicToolNode:\n",
    "    \"\"\"A node that runs the tools requested in the last AIMessage.\"\"\"\n",
    "\n",
    "    def __init__(self, tools: list) -> None:\n",
    "        self.tools_by_name = {tool.name: tool for tool in tools}\n",
    "\n",
    "    def __call__(self, inputs: dict):\n",
    "        if messages := inputs.get(\"messages\", []):\n",
    "            message = messages[-1]\n",
    "        else:\n",
    "            raise ValueError(\"No message found in input\")\n",
    "        outputs = []\n",
    "        for tool_call in message.tool_calls:\n",
    "            tool_result = self.tools_by_name[tool_call[\"name\"]].invoke(\n",
    "                tool_call[\"args\"]\n",
    "            )\n",
    "            outputs.append(\n",
    "                ToolMessage(\n",
    "                    content=json.dumps(tool_result),\n",
    "                    name=tool_call[\"name\"],\n",
    "                    tool_call_id=tool_call[\"id\"],\n",
    "                )\n",
    "            )\n",
    "        return {\"messages\": outputs}\n",
    "\n",
    "\n",
    "tool_node = BasicToolNode(tools=[tool])\n",
    "graph_builder.add_node(\"tools\", tool_node)"
   ]
  },
  {
   "cell_type": "code",
   "execution_count": 19,
   "metadata": {},
   "outputs": [],
   "source": [
    "def route_tools(\n",
    "    state: State,\n",
    "):\n",
    "    \"\"\"\n",
    "    Use in the conditional_edge to route to the ToolNode if the last message\n",
    "    has tool calls. Otherwise, route to the end.\n",
    "    \"\"\"\n",
    "    if isinstance(state, list):\n",
    "        ai_message = state[-1]\n",
    "    elif messages := state.get(\"messages\", []):\n",
    "        ai_message = messages[-1]\n",
    "    else:\n",
    "        raise ValueError(f\"No messages found in input state to tool_edge: {state}\")\n",
    "    if hasattr(ai_message, \"tool_calls\") and len(ai_message.tool_calls) > 0:\n",
    "        return \"tools\"\n",
    "    return END\n",
    "\n",
    "\n",
    "# The `tools_condition` function returns \"tools\" if the chatbot asks to use a tool, and \"END\" if\n",
    "# it is fine directly responding. This conditional routing defines the main agent loop.\n",
    "graph_builder.add_conditional_edges(\n",
    "    \"chatbot\",\n",
    "    route_tools,\n",
    "    # The following dictionary lets you tell the graph to interpret the condition's outputs as a specific node\n",
    "    # It defaults to the identity function, but if you\n",
    "    # want to use a node named something else apart from \"tools\",\n",
    "    # You can update the value of the dictionary to something else\n",
    "    # e.g., \"tools\": \"my_tools\"\n",
    "    {\"tools\": \"tools\", END: END},\n",
    ")\n",
    "# Any time a tool is called, we return to the chatbot to decide the next step\n",
    "graph_builder.add_edge(\"tools\", \"chatbot\")\n",
    "graph_builder.add_edge(START, \"chatbot\")\n",
    "graph = graph_builder.compile()"
   ]
  },
  {
   "cell_type": "code",
   "execution_count": 20,
   "metadata": {},
   "outputs": [
    {
     "data": {
      "image/png": "[encoded data removed]",
      "text/plain": [
       "<IPython.core.display.Image object>"
      ]
     },
     "metadata": {},
     "output_type": "display_data"
    }
   ],
   "source": [
    "from IPython.display import Image, display\n",
    "\n",
    "try:\n",
    "    display(Image(graph.get_graph().draw_mermaid_png()))\n",
    "except Exception:\n",
    "    # This requires some extra dependencies and is optional\n",
    "    pass"
   ]
  },
  {
   "cell_type": "code",
   "execution_count": 24,
   "metadata": {},
   "outputs": [
    {
     "name": "stdout",
     "output_type": "stream",
     "text": [
      "{'chatbot': {'messages': [AIMessage(content='', additional_kwargs={}, response_metadata={'model': 'mistral', 'created_at': '2025-03-13T22:57:40.408132Z', 'done': True, 'done_reason': 'stop', 'total_duration': 8552279075, 'load_duration': 6528774, 'prompt_eval_count': 115, 'prompt_eval_duration': 897000000, 'eval_count': 44, 'eval_duration': 7648000000, 'message': Message(role='assistant', content='', images=None, tool_calls=None)}, id='run-5294a7e4-566b-4a29-84f2-a0392df3be69-0', tool_calls=[{'name': 'tavily_search_results_json', 'args': {'query': 'What is the greater value between 9.9 and 9.11'}, 'id': 'c4399faf-be07-415b-aa63-e0e5863a6cf9', 'type': 'tool_call'}], usage_metadata={'input_tokens': 115, 'output_tokens': 44, 'total_tokens': 159})]}}\n",
      "{'tools': {'messages': [ToolMessage(content='[{\"title\": \"What gives with the whole \\\\\"Which is bigger 9.9 or 9.11\\\\\" question?\", \"url\": \"https://www.reddit.com/r/singularity/comments/1emopvj/what_gives_with_the_whole_which_is_bigger_99_or/\", \"content\": \"9.11 is bigger than 9.9. In decimal numbers, the value of 9.11 is greater because 11 (the hundredths place) is larger than 9. which is bigger\", \"score\": 0.90289277}, {\"title\": \"can you ask it: 9.11 and 9.9, which number is larger - Hacker News\", \"url\": \"https://news.ycombinator.com/item?id=41524221\", \"content\": \"Conclusion: Since 9.90 has a larger value in the tenths place compared to 9.11, 9.90 (or 9.9) is larger than 9.11. Therefore, 9.9 is larger\", \"score\": 0.8747745}]', name='tavily_search_results_json', id='1e8afe24-4346-421c-ac55-90b805035ee8', tool_call_id='c4399faf-be07-415b-aa63-e0e5863a6cf9')]}}\n",
      "{'chatbot': {'messages': [AIMessage(content='9.11 is smaller than 9.9 because in decimal numbers, the value of 9.9 (which includes tenths and units) is greater than the value of 9.11 (just hundreds and ones). In other words, a number with more significant digits to the right (tenths place or further) is larger.', additional_kwargs={}, response_metadata={'model': 'mistral', 'created_at': '2025-03-13T22:58:13.769611Z', 'done': True, 'done_reason': 'stop', 'total_duration': 30978124006, 'load_duration': 5515783, 'prompt_eval_count': 347, 'prompt_eval_duration': 17539000000, 'eval_count': 74, 'eval_duration': 13431000000, 'message': Message(role='assistant', content='9.11 is smaller than 9.9 because in decimal numbers, the value of 9.9 (which includes tenths and units) is greater than the value of 9.11 (just hundreds and ones). In other words, a number with more significant digits to the right (tenths place or further) is larger.', images=None, tool_calls=None)}, id='run-350dea3c-2762-4ea2-beb0-481d22cc860f-0', usage_metadata={'input_tokens': 347, 'output_tokens': 74, 'total_tokens': 421})]}}\n",
      "{'chatbot': {'messages': [AIMessage(content='', additional_kwargs={}, response_metadata={'model': 'mistral', 'created_at': '2025-03-13T23:00:52.077762Z', 'done': True, 'done_reason': 'stop', 'total_duration': 42827129061, 'load_duration': 7148513, 'prompt_eval_count': 117, 'prompt_eval_duration': 5514000000, 'eval_count': 209, 'eval_duration': 37304000000, 'message': Message(role='assistant', content='', images=None, tool_calls=None)}, id='run-45d41f2c-3023-4310-843f-743c3e25512a-0', tool_calls=[{'name': 'tavily_search_results_json', 'args': {'query': '서울는 어느 나라의 수도인가'}, 'id': '02d78364-69ee-4447-b60c-b961dfc3bb44', 'type': 'tool_call'}], usage_metadata={'input_tokens': 117, 'output_tokens': 209, 'total_tokens': 326})]}}\n",
      "{'tools': {'messages': [ToolMessage(content='[{\"title\": \"\\\\uc11c\\\\uc6b8\\\\ud2b9\\\\ubcc4\\\\uc2dc - \\\\uc704\\\\ud0a4\\\\ubc31\\\\uacfc, \\\\uc6b0\\\\ub9ac \\\\ubaa8\\\\ub450\\\\uc758 \\\\ubc31\\\\uacfc\\\\uc0ac\\\\uc804\", \"url\": \"https://ko.wikipedia.org/wiki/%EC%84%9C%EC%9A%B8%ED%8A%B9%EB%B3%84%EC%8B%9C\", \"content\": \"\\\\uc11c\\\\uc6b8\\\\ud2b9\\\\ubcc4\\\\uc2dc(\\\\uc11c\\\\uc6b8\\\\u7279\\\\u5225\\\\u5e02, \\\\uc601\\\\uc5b4: Seoul Metropolitan City)\\\\ub294 \\\\ub300\\\\ud55c\\\\ubbfc\\\\uad6d\\\\uc758 \\\\uc218\\\\ub3c4\\\\uc774\\\\uc790 \\\\ubb38\\\\ud654\\\\u00b7\\\\uc778\\\\ubb38\\\\u00b7\\\\uc815\\\\uce58\\\\u00b7\\\\uacbd\\\\uc81c \\\\uc911\\\\uc2ec\\\\uc9c0 \\\\uc5ed\\\\ud560\\\\uc744 \\\\ud558\\\\ub294 \\\\ub3c4\\\\uc2dc\\\\ub85c, \\\\uacbd\\\\uae30\\\\ub3c4\\\\uc640 \\\\uc778\\\\ucc9c\\\\uad11\\\\uc5ed\\\\uc2dc\\\\uae4c\\\\uc9c0 \\\\uc544\\\\uc6b0\\\\ub974\\\\ub294\", \"score\": 0.81524754}, {\"title\": \"\\\\uc11c\\\\uc6b8\\\\ud2b9\\\\ubcc4\\\\uc2dc - \\\\ub098\\\\ubb34\\\\uc704\\\\ud0a4\", \"url\": \"https://namu.wiki/w/%EC%84%9C%EC%9A%B8%ED%8A%B9%EB%B3%84%EC%8B%9C\", \"content\": \"\\\\uc11c\\\\uc6b8\\\\ud2b9\\\\ubcc4\\\\uc2dc\\\\ub294 \\\\ub300\\\\ud55c\\\\ubbfc\\\\uad6d\\\\uc758 \\\\uc218\\\\ub3c4[22]\\\\uc774\\\\uc790 \\\\ucd5c\\\\ub300 \\\\ub3c4\\\\uc2dc\\\\uc774\\\\ub2e4. \\\\ud3c9\\\\uc591\\\\uc2dc, \\\\uacbd\\\\uc8fc\\\\uc2dc, \\\\uac1c\\\\uc131\\\\uc2dc\\\\uc640 \\\\ud568\\\\uaed8 \\\\uc624\\\\ub79c \\\\uc5ed\\\\uc0ac\\\\ub97c \\\\uac00\\\\uc9c4 \\\\ub300\\\\ud55c\\\\ubbfc\\\\uad6d\\\\uc758 \\\\uace0\\\\ub3c4 \\\\uc911 \\\\ud558\\\\ub098\\\\ub2e4. \\\\ubc95\\\\ub960\\\\uc0c1 \\\\ub300\\\\ud55c\\\\ubbfc\\\\uad6d \\\\uc81c\", \"score\": 0.7823471}]', name='tavily_search_results_json', id='bd2115bc-a780-4585-9a03-81caca7c5316', tool_call_id='02d78364-69ee-4447-b60c-b961dfc3bb44')]}}\n",
      "{'chatbot': {'messages': [AIMessage(content='서울은 대한민국(Korea)의 수도입니다.\\n\\n추가적으로, Seoul Metropolitan City라고도 부르며, 서울은 북아시아의 제일 황무지 중심이 되어있습니다. (Referene: https://ko.wikipedia.org/wiki/%EC%84%9C%EC%9A%B8%ED%8A%B9%EB%B3%84%EC%8B%9C, https://namu.wiki/w/%EC%84%9C%EC%9A%B8%ED%8A%B9%EB%B3%84%EC%8B%9C)\\n\\nSeoul Metropolitan City는 서울 특별시와 인천광역시를 포함한 세 단지(city, county, borough)로 구성되어 있습니다. (Referene: https://ko.wikipedia.org/wiki/%EC%84%9C%EC%9A%B8%ED%8A%B9%EB%B3%84%EC%8B%9C)', additional_kwargs={}, response_metadata={'model': 'mistral', 'created_at': '2025-03-13T23:02:40.435973Z', 'done': True, 'done_reason': 'stop', 'total_duration': 105607979320, 'load_duration': 6058172, 'prompt_eval_count': 940, 'prompt_eval_duration': 52280000000, 'eval_count': 289, 'eval_duration': 53319000000, 'message': Message(role='assistant', content='서울은 대한민국(Korea)의 수도입니다.\\n\\n추가적으로, Seoul Metropolitan City라고도 부르며, 서울은 북아시아의 제일 황무지 중심이 되어있습니다. (Referene: https://ko.wikipedia.org/wiki/%EC%84%9C%EC%9A%B8%ED%8A%B9%EB%B3%84%EC%8B%9C, https://namu.wiki/w/%EC%84%9C%EC%9A%B8%ED%8A%B9%EB%B3%84%EC%8B%9C)\\n\\nSeoul Metropolitan City는 서울 특별시와 인천광역시를 포함한 세 단지(city, county, borough)로 구성되어 있습니다. (Referene: https://ko.wikipedia.org/wiki/%EC%84%9C%EC%9A%B8%ED%8A%B9%EB%B3%84%EC%8B%9C)', images=None, tool_calls=None)}, id='run-2a2eb21c-2d54-4211-9a6d-f40f6f398a22-0', usage_metadata={'input_tokens': 940, 'output_tokens': 289, 'total_tokens': 1229})]}}\n",
      "Goodbye!\n"
     ]
    }
   ],
   "source": [
    "def stream_graph_updates(user_input: str):\n",
    "    for event in graph.stream({\"messages\": [{\"role\": \"user\", \"content\": user_input}]}):\n",
    "        print(event)\n",
    "        # 이벤트 구조: {'chatbot': {'messages': [메시지 내용]}}\n",
    "        if 'chatbot' in event and 'messages' in event['chatbot']:\n",
    "            messages = event['chatbot']['messages']\n",
    "            if messages and len(messages) > 0:\n",
    "                # 메시지가 문자열 목록인 경우\n",
    "                if isinstance(messages[-1], str):\n",
    "                    print(\"Assistant:\", messages[-1])\n",
    "                # 메시지가 딕셔너리인 경우 (role, content 포맷)\n",
    "                elif isinstance(messages[-1], dict) and 'content' in messages[-1]:\n",
    "                    print(\"Assistant:\", messages[-1]['content'])\n",
    "\n",
    "while True:\n",
    "    try:\n",
    "        user_input = input(\"User: \")\n",
    "        if user_input.lower() in [\"quit\", \"exit\", \"q\"]:\n",
    "            print(\"Goodbye!\")\n",
    "            break\n",
    "\n",
    "        stream_graph_updates(user_input)\n",
    "    except:\n",
    "        # fallback if input() is not available\n",
    "        user_input = \"What do you know about LangGraph?\"\n",
    "        print(\"User: \" + user_input)\n",
    "        stream_graph_updates(user_input)\n",
    "        break"
   ]
  },
  {
   "cell_type": "code",
   "execution_count": 34,
   "metadata": {},
   "outputs": [],
   "source": [
    "from langgraph.prebuilt import ToolNode, tools_condition\n",
    "\n",
    "graph_builder = StateGraph(State)\n",
    "\n",
    "\n",
    "tool = TavilySearchResults(max_results=2)\n",
    "tools = [tool]\n",
    "llm = ChatOllama(model=\"mistral\")\n",
    "llm_with_tools = llm.bind_tools(tools)\n",
    "\n",
    "\n",
    "def chatbot(state: State):\n",
    "    return {\"messages\": [llm_with_tools.invoke(state[\"messages\"])]}\n",
    "\n",
    "\n",
    "graph_builder.add_node(\"chatbot\", chatbot)\n",
    "\n",
    "tool_node = ToolNode(tools=[tool])\n",
    "graph_builder.add_node(\"tools\", tool_node)\n",
    "\n",
    "graph_builder.add_conditional_edges(\n",
    "    \"chatbot\",\n",
    "    tools_condition,\n",
    ")\n",
    "# Any time a tool is called, we return to the chatbot to decide the next step\n",
    "graph_builder.add_edge(\"tools\", \"chatbot\")\n",
    "graph_builder.set_entry_point(\"chatbot\")\n",
    "graph = graph_builder.compile()\n"
   ]
  },
  {
   "cell_type": "code",
   "execution_count": 35,
   "metadata": {},
   "outputs": [
    {
     "name": "stdout",
     "output_type": "stream",
     "text": [
      "{'chatbot': {'messages': [AIMessage(content='', additional_kwargs={}, response_metadata={'model': 'mistral', 'created_at': '2025-03-13T23:10:09.868083Z', 'done': True, 'done_reason': 'stop', 'total_duration': 59096869451, 'load_duration': 2570778059, 'prompt_eval_count': 115, 'prompt_eval_duration': 5415000000, 'eval_count': 290, 'eval_duration': 51109000000, 'message': Message(role='assistant', content='', images=None, tool_calls=None)}, id='run-44c657e5-9d21-4d06-975c-0475cd280bd4-0', tool_calls=[{'name': 'tavily_search_results_json', 'args': {'query': 'why is the sky blue'}, 'id': '3b17a03a-8b6c-4230-9ce5-4388b338736b', 'type': 'tool_call'}, {'name': 'tavily_search_results_json', 'args': {'query': 'Rayleigh scattering'}, 'id': '4b9a58d4-7787-4640-a491-a62c5f86565c', 'type': 'tool_call'}], usage_metadata={'input_tokens': 115, 'output_tokens': 290, 'total_tokens': 405})]}}\n",
      "{'tools': {'messages': [ToolMessage(content='[{\"title\": \"Why is the sky blue? Do I understand it correctly: : r/askscience\", \"url\": \"https://www.reddit.com/r/askscience/comments/14566ig/why_is_the_sky_blue_do_i_understand_it_correctly/\", \"content\": \"sky is blue because blue light gets scattered the most during the day. in the evening it turns red because now even more of the blue light gets scattered The scattering of light during the day: does it mean that blue light gets reflected off air particles and reaches our eyes, while the rest of the frequencies pass through and reach the ground? So during the evening blue light gets scattered even more, to the point where even less of it reaches the eyes? Reddit reReddit: Top posts of June 9, 2023 * * * Reddit reReddit: Top posts of June 2023 * * * Reddit reReddit: Top posts of 2023 * * * Communities Best of Reddit Topics Reddit Rules Privacy Policy User Agreement Reddit, Inc.\", \"score\": 0.8785752}, {\"title\": \"Why Is the Sky Blue? | NASA Space Place – NASA Science for Kids\", \"url\": \"https://spaceplace.nasa.gov/blue-sky/en/\", \"content\": \"Blue light is scattered more than the other colors because it travels as shorter, smaller waves. Blue light is scattered in all directions by the tiny molecules of air in Earth\\'s atmosphere. As the sunlight has passed through all this air, the air molecules have scattered and _re_scattered the blue light many times in many directions. As the Sun gets lower in the sky, its light is passing through more of the atmosphere to reach you. Even more of the blue light is scattered, allowing the reds and yellows to pass straight through to your eyes. The sky appears red because small particles of dust, pollution, or other aerosols also scatter blue light, leaving more purely red and yellow light to go through the atmosphere.\", \"score\": 0.850382}]', name='tavily_search_results_json', id='f2a2d5eb-6e03-451d-bd68-eb1ddb8b1c86', tool_call_id='3b17a03a-8b6c-4230-9ce5-4388b338736b', artifact={'query': 'why is the sky blue', 'follow_up_questions': None, 'answer': None, 'images': [], 'results': [{'url': 'https://www.reddit.com/r/askscience/comments/14566ig/why_is_the_sky_blue_do_i_understand_it_correctly/', 'title': 'Why is the sky blue? Do I understand it correctly: : r/askscience', 'content': 'sky is blue because blue light gets scattered the most during the day. in the evening it turns red because now even more of the blue light gets scattered The scattering of light during the day: does it mean that blue light gets reflected off air particles and reaches our eyes, while the rest of the frequencies pass through and reach the ground? So during the evening blue light gets scattered even more, to the point where even less of it reaches the eyes? Reddit reReddit: Top posts of June 9, 2023 * * * Reddit reReddit: Top posts of June 2023 * * * Reddit reReddit: Top posts of 2023 * * * Communities Best of Reddit Topics Reddit Rules Privacy Policy User Agreement Reddit, Inc.', 'score': 0.8785752, 'raw_content': None}, {'url': 'https://spaceplace.nasa.gov/blue-sky/en/', 'title': 'Why Is the Sky Blue? | NASA Space Place – NASA Science for Kids', 'content': \"Blue light is scattered more than the other colors because it travels as shorter, smaller waves. Blue light is scattered in all directions by the tiny molecules of air in Earth's atmosphere. As the sunlight has passed through all this air, the air molecules have scattered and _re_scattered the blue light many times in many directions. As the Sun gets lower in the sky, its light is passing through more of the atmosphere to reach you. Even more of the blue light is scattered, allowing the reds and yellows to pass straight through to your eyes. The sky appears red because small particles of dust, pollution, or other aerosols also scatter blue light, leaving more purely red and yellow light to go through the atmosphere.\", 'score': 0.850382, 'raw_content': None}], 'response_time': 1.59}), ToolMessage(content='[{\"title\": \"Rayleigh scattering - Wikipedia\", \"url\": \"https://en.wikipedia.org/wiki/Rayleigh_scattering\", \"content\": \"Due to Rayleigh scattering, red and orange colors are more visible during sunset because the blue and violet light has been scattered out of the direct path. Rayleigh scattering of sunlight in Earth\\'s atmosphere causes diffuse sky radiation, which is the reason for the blue color of the daytime and twilight sky, as well as the yellowish to reddish hue of the low Sun. Sunlight is also subject to Raman scattering, which changes the rotational state of the molecules and gives rise to polarization effects.[2] Rayleigh scattering applies to particles that are small with respect to wavelengths of light, and that are optically \\\\\"soft\\\\\" (i.e., with a refractive index close to 1). Rayleigh scattering in opalescent glass: it appears blue from the side, but orange light shines through.[22]\", \"score\": 0.8834878}, {\"title\": \"Blue Sky and Rayleigh Scattering - HyperPhysics Concepts\", \"url\": \"http://hyperphysics.phy-astr.gsu.edu/hbase/atmos/blusky.html\", \"content\": \"The blue color of the sky is caused by the scattering of sunlight off the molecules of the atmosphere. This scattering, called Rayleigh scattering, is more effective at short wavelengths (the blue end of the visible spectrum). Rayleigh Scattering It is Rayleigh scattering off the molecules of the air which gives us the blue sky. Mie Scattering Rayleigh and Mie Scattering Mie Scattering  Rayleigh Scattering Blue sky Rayleigh and Mie scattering and sky color. This can be interpreted as blue mixed with an increasing fraction of white light, which is consistent with the light being a combination of Rayleigh and Mie scattering. The increasing brightness along the path of the data is again consistent with a combination of Rayleigh and Mie scattering. Mie Scattering  Rayleigh Scattering Blue sky\", \"score\": 0.8655088}]', name='tavily_search_results_json', id='642a1605-8647-4469-8360-74ab02f5746f', tool_call_id='4b9a58d4-7787-4640-a491-a62c5f86565c', artifact={'query': 'Rayleigh scattering', 'follow_up_questions': None, 'answer': None, 'images': [], 'results': [{'url': 'https://en.wikipedia.org/wiki/Rayleigh_scattering', 'title': 'Rayleigh scattering - Wikipedia', 'content': 'Due to Rayleigh scattering, red and orange colors are more visible during sunset because the blue and violet light has been scattered out of the direct path. Rayleigh scattering of sunlight in Earth\\'s atmosphere causes diffuse sky radiation, which is the reason for the blue color of the daytime and twilight sky, as well as the yellowish to reddish hue of the low Sun. Sunlight is also subject to Raman scattering, which changes the rotational state of the molecules and gives rise to polarization effects.[2] Rayleigh scattering applies to particles that are small with respect to wavelengths of light, and that are optically \"soft\" (i.e., with a refractive index close to 1). Rayleigh scattering in opalescent glass: it appears blue from the side, but orange light shines through.[22]', 'score': 0.8834878, 'raw_content': None}, {'url': 'http://hyperphysics.phy-astr.gsu.edu/hbase/atmos/blusky.html', 'title': 'Blue Sky and Rayleigh Scattering - HyperPhysics Concepts', 'content': 'The blue color of the sky is caused by the scattering of sunlight off the molecules of the atmosphere. This scattering, called Rayleigh scattering, is more effective at short wavelengths (the blue end of the visible spectrum). Rayleigh Scattering It is Rayleigh scattering off the molecules of the air which gives us the blue sky. Mie Scattering Rayleigh and Mie Scattering Mie Scattering  Rayleigh Scattering Blue sky Rayleigh and Mie scattering and sky color. This can be interpreted as blue mixed with an increasing fraction of white light, which is consistent with the light being a combination of Rayleigh and Mie scattering. The increasing brightness along the path of the data is again consistent with a combination of Rayleigh and Mie scattering. Mie Scattering  Rayleigh Scattering Blue sky', 'score': 0.8655088, 'raw_content': None}], 'response_time': 1.53})]}}\n",
      "{'chatbot': {'messages': [AIMessage(content=\"하늘은 푸른 이유는 태양광으로부터 가장 많이 산산되는 색, 청록색입니다. 태양의 광은 일반적으로 얇은 기체 구성물질의 분자와 마주하면서 산산되며, 이때 이를 '레이리쉬 산산'이라고 합니다. 이는 광선의 길이가 작은 색(청록색의 끝부분)에 더 효과적입니다. 태양광을 통해서 일어나는 레이리쉬 산산은 지구의 대기로 인하여 밝은 하늘이 된 것에 때문입니다. 태양이 하늘에 낮아질수록, 태양광이 더 많은 대기를 통과해야 하므로, 레이리쉬 산산으로 인하여 청록색이 더 많이 산산되어, 빨강과 노랑 등 오랜 시간동안 보지 못한 컬러가 바로 입맛을 들립니다.\", additional_kwargs={}, response_metadata={'model': 'mistral', 'created_at': '2025-03-13T23:12:08.639375Z', 'done': True, 'done_reason': 'stop', 'total_duration': 116381222297, 'load_duration': 6330289, 'prompt_eval_count': 1031, 'prompt_eval_duration': 52181000000, 'eval_count': 347, 'eval_duration': 64186000000, 'message': Message(role='assistant', content=\"하늘은 푸른 이유는 태양광으로부터 가장 많이 산산되는 색, 청록색입니다. 태양의 광은 일반적으로 얇은 기체 구성물질의 분자와 마주하면서 산산되며, 이때 이를 '레이리쉬 산산'이라고 합니다. 이는 광선의 길이가 작은 색(청록색의 끝부분)에 더 효과적입니다. 태양광을 통해서 일어나는 레이리쉬 산산은 지구의 대기로 인하여 밝은 하늘이 된 것에 때문입니다. 태양이 하늘에 낮아질수록, 태양광이 더 많은 대기를 통과해야 하므로, 레이리쉬 산산으로 인하여 청록색이 더 많이 산산되어, 빨강과 노랑 등 오랜 시간동안 보지 못한 컬러가 바로 입맛을 들립니다.\", images=None, tool_calls=None)}, id='run-d891012d-86aa-442a-afd7-bd9df84c7bb9-0', usage_metadata={'input_tokens': 1031, 'output_tokens': 347, 'total_tokens': 1378})]}}\n",
      "Goodbye!\n"
     ]
    }
   ],
   "source": [
    "def stream_graph_updates(user_input: str):\n",
    "    for event in graph.stream({\"messages\": [{\"role\": \"user\", \"content\": user_input}]}):\n",
    "        print(event)\n",
    "        # 이벤트 구조: {'chatbot': {'messages': [메시지 내용]}}\n",
    "        if 'chatbot' in event and 'messages' in event['chatbot']:\n",
    "            messages = event['chatbot']['messages']\n",
    "            if messages and len(messages) > 0:\n",
    "                # 메시지가 문자열 목록인 경우\n",
    "                if isinstance(messages[-1], str):\n",
    "                    print(\"Assistant:\", messages[-1])\n",
    "                # 메시지가 딕셔너리인 경우 (role, content 포맷)\n",
    "                elif isinstance(messages[-1], dict) and 'content' in messages[-1]:\n",
    "                    print(\"Assistant:\", messages[-1]['content'])\n",
    "\n",
    "while True:\n",
    "    try:\n",
    "        user_input = input(\"User: \")\n",
    "        if user_input.lower() in [\"quit\", \"exit\", \"q\"]:\n",
    "            print(\"Goodbye!\")\n",
    "            break\n",
    "\n",
    "        stream_graph_updates(user_input)\n",
    "    except:\n",
    "        # fallback if input() is not available\n",
    "        user_input = \"What do you know about LangGraph?\"\n",
    "        print(\"User: \" + user_input)\n",
    "        stream_graph_updates(user_input)\n",
    "        break"
   ]
  },
  {
   "cell_type": "code",
   "execution_count": 49,
   "metadata": {},
   "outputs": [],
   "source": [
    "graph_builder = StateGraph(State)\n",
    "\n",
    "\n",
    "llm = ChatOllama(model=\"mistral\")\n",
    "\n",
    "\n",
    "def chatbot(state: State):\n",
    "    return {\"messages\": [llm.invoke(state[\"messages\"])]}\n",
    "\n",
    "\n",
    "graph_builder.add_node(\"chatbot\", chatbot)\n",
    "\n",
    "\n",
    "# Any time a tool is called, we return to the chatbot to decide the next step\n",
    "graph_builder.add_edge(\"chatbot\", END)\n",
    "graph_builder.add_edge(START, \"chatbot\")\n",
    "graph = graph_builder.compile()"
   ]
  },
  {
   "cell_type": "code",
   "execution_count": 50,
   "metadata": {},
   "outputs": [
    {
     "data": {
      "image/png": "[encoded data removed]",
      "text/plain": [
       "<IPython.core.display.Image object>"
      ]
     },
     "metadata": {},
     "output_type": "display_data"
    }
   ],
   "source": [
    "from IPython.display import Image, display\n",
    "\n",
    "try:\n",
    "    display(Image(graph.get_graph().draw_mermaid_png()))\n",
    "except Exception:\n",
    "    # This requires some extra dependencies and is optional\n",
    "    pass"
   ]
  },
  {
   "cell_type": "code",
   "execution_count": 51,
   "metadata": {},
   "outputs": [],
   "source": [
    "config = {\"configurable\": {\"thread_id\": \"1\"}}"
   ]
  },
  {
   "cell_type": "code",
   "execution_count": 52,
   "metadata": {},
   "outputs": [
    {
     "name": "stdout",
     "output_type": "stream",
     "text": [
      "================================\u001b[1m Human Message \u001b[0m=================================\n",
      "\n",
      "Hi there! My name is Will.\n",
      "==================================\u001b[1m Ai Message \u001b[0m==================================\n",
      "\n",
      " Hello Will, nice to meet you! How can I help you today? Do you have any specific question or topic you'd like to discuss related to AI or machine learning? I'm here to help with that and more!\n"
     ]
    }
   ],
   "source": [
    "user_input = \"Hi there! My name is Will.\"\n",
    "\n",
    "# The config is the **second positional argument** to stream() or invoke()!\n",
    "events = graph.stream(\n",
    "    {\"messages\": [{\"role\": \"user\", \"content\": user_input}]},\n",
    "    config,\n",
    "    stream_mode=\"values\",\n",
    ")\n",
    "for event in events:\n",
    "    event[\"messages\"][-1].pretty_print()"
   ]
  },
  {
   "cell_type": "code",
   "execution_count": 53,
   "metadata": {},
   "outputs": [
    {
     "name": "stdout",
     "output_type": "stream",
     "text": [
      "================================\u001b[1m Human Message \u001b[0m=================================\n",
      "\n",
      "Remember my name?\n",
      "==================================\u001b[1m Ai Message \u001b[0m==================================\n",
      "\n",
      " Oh, absolutely! You're the fantastic friend who brightens up my day with your curious questions and engaging conversations. What can I assist you with today?\n",
      "\n",
      "In all seriousness though, it is indeed a pleasure to interact with you. Let's create some magical memories together as we explore and learn new things. How may I be of service today?\n"
     ]
    }
   ],
   "source": [
    "user_input = \"Remember my name?\"\n",
    "\n",
    "# The config is the **second positional argument** to stream() or invoke()!\n",
    "events = graph.stream(\n",
    "    {\"messages\": [{\"role\": \"user\", \"content\": user_input}]},\n",
    "    config,\n",
    "    stream_mode=\"values\",\n",
    ")\n",
    "for event in events:\n",
    "    event[\"messages\"][-1].pretty_print()"
   ]
  },
  {
   "cell_type": "code",
   "execution_count": 87,
   "metadata": {},
   "outputs": [],
   "source": [
    "from typing import Annotated\n",
    "\n",
    "from langchain_ollama import ChatOllama\n",
    "from langchain_community.tools.tavily_search import TavilySearchResults\n",
    "from langchain_core.messages import ToolMessage\n",
    "from langchain_core.tools import InjectedToolCallId, tool\n",
    "from typing_extensions import TypedDict\n",
    "\n",
    "from langgraph.checkpoint.memory import MemorySaver\n",
    "from langgraph.graph import StateGraph, START, END\n",
    "from langgraph.graph.message import add_messages\n",
    "from langgraph.prebuilt import ToolNode, tools_condition\n",
    "from langgraph.types import Command, interrupt\n",
    "\n",
    "\n",
    "\n",
    "class State(TypedDict):\n",
    "    messages: Annotated[list, add_messages]\n",
    "    name: str\n",
    "    birthday: str\n",
    "\n",
    "\n",
    "@tool\n",
    "def human_assistance(\n",
    "    name: str, birthday: str, tool_call_id: Annotated[str, InjectedToolCallId]\n",
    ") -> str:\n",
    "    \"\"\"Request assistance from a human.\"\"\"\n",
    "    human_response = interrupt(\n",
    "        {\n",
    "            \"question\": \"Is this correct?\",\n",
    "            \"name\": name,\n",
    "            \"birthday\": birthday,\n",
    "        },\n",
    "    )\n",
    "    if human_response.get(\"correct\", \"\").lower().startswith(\"y\"):\n",
    "        verified_name = name\n",
    "        verified_birthday = birthday\n",
    "        response = \"Correct\"\n",
    "    else:\n",
    "        verified_name = human_response.get(\"name\", name)\n",
    "        verified_birthday = human_response.get(\"birthday\", birthday)\n",
    "        response = f\"Made a correction: {human_response}\"\n",
    "\n",
    "    state_update = {\n",
    "        \"name\": verified_name,\n",
    "        \"birthday\": verified_birthday,\n",
    "        \"messages\": [ToolMessage(response, tool_call_id=tool_call_id)],\n",
    "    }\n",
    "    return Command(update=state_update)\n",
    "\n",
    "\n",
    "tool = TavilySearchResults(max_results=2)\n",
    "tools = [tool, human_assistance]\n",
    "llm = ChatOllama(model=\"mistral\")\n",
    "llm_with_tools = llm.bind_tools(tools)\n",
    "\n",
    "\n",
    "def chatbot(state: State):\n",
    "    message = llm_with_tools.invoke(state[\"messages\"])\n",
    "    assert(len(message.tool_calls) <= 1)\n",
    "    return {\"messages\": [message]}\n",
    "\n",
    "\n",
    "graph_builder = StateGraph(State)\n",
    "graph_builder.add_node(\"chatbot\", chatbot)\n",
    "\n",
    "tool_node = ToolNode(tools=tools)\n",
    "graph_builder.add_node(\"tools\", tool_node)\n",
    "\n",
    "graph_builder.add_conditional_edges(\n",
    "    \"chatbot\",\n",
    "    tools_condition,\n",
    ")\n",
    "graph_builder.add_edge(\"tools\", \"chatbot\")\n",
    "graph_builder.add_edge(START, \"chatbot\")\n",
    "\n",
    "memory = MemorySaver()\n",
    "graph = graph_builder.compile(checkpointer=memory)"
   ]
  },
  {
   "cell_type": "code",
   "execution_count": 90,
   "metadata": {},
   "outputs": [],
   "source": [
    "from typing import Annotated\n",
    "\n",
    "from langchain_ollama import ChatOllama\n",
    "from langchain_community.tools.tavily_search import TavilySearchResults\n",
    "from langchain_core.messages import BaseMessage\n",
    "from typing_extensions import TypedDict\n",
    "\n",
    "from langgraph.checkpoint.memory import MemorySaver\n",
    "from langgraph.graph import StateGraph, START, END\n",
    "from langgraph.graph.message import add_messages\n",
    "from langgraph.prebuilt import ToolNode, tools_condition\n",
    "\n",
    "\n",
    "class State(TypedDict):\n",
    "    messages: Annotated[list, add_messages]\n",
    "\n",
    "\n",
    "graph_builder = StateGraph(State)\n",
    "\n",
    "\n",
    "tool = TavilySearchResults(max_results=2)\n",
    "tools = [tool]\n",
    "llm = ChatOllama(model=\"mistral\")\n",
    "llm_with_tools = llm.bind_tools(tools)\n",
    "\n",
    "\n",
    "def chatbot(state: State):\n",
    "    return {\"messages\": [llm_with_tools.invoke(state[\"messages\"])]}\n",
    "\n",
    "\n",
    "graph_builder.add_node(\"chatbot\", chatbot)\n",
    "\n",
    "tool_node = ToolNode(tools=[tool])\n",
    "graph_builder.add_node(\"tools\", tool_node)\n",
    "\n",
    "graph_builder.add_conditional_edges(\n",
    "    \"chatbot\",\n",
    "    tools_condition,\n",
    ")\n",
    "graph_builder.add_edge(\"tools\", \"chatbot\")\n",
    "graph_builder.add_edge(START, \"chatbot\")\n",
    "\n",
    "memory = MemorySaver()\n",
    "graph = graph_builder.compile(checkpointer=memory)"
   ]
  },
  {
   "cell_type": "code",
   "execution_count": 91,
   "metadata": {},
   "outputs": [
    {
     "name": "stdout",
     "output_type": "stream",
     "text": [
      "================================\u001b[1m Human Message \u001b[0m=================================\n",
      "\n",
      "I'm learning LangGraph. Could you do some research on it for me?\n",
      "==================================\u001b[1m Ai Message \u001b[0m==================================\n",
      "Tool Calls:\n",
      "  tavily_search_results_json (c6d3a919-83ea-4178-894a-85bb958a85d4)\n",
      " Call ID: c6d3a919-83ea-4178-894a-85bb958a85d4\n",
      "  Args:\n",
      "    query: LangGraph\n",
      "=================================\u001b[1m Tool Message \u001b[0m=================================\n",
      "Name: tavily_search_results_json\n",
      "\n",
      "[{\"title\": \"langchain-ai/langgraph: Build resilient language agents as graphs.\", \"url\": \"https://github.com/langchain-ai/langgraph\", \"content\": \"GitHub - langchain-ai/langgraph: Build resilient language agents as graphs. LangGraph is a library for building stateful, multi-actor applications with LLMs, used to create agent and multi-agent workflows. Let's build a tool-calling ReAct-style agent that uses a search tool! The simplest way to create a tool-calling agent in LangGraph is to use create_react_agent: Define the tools for the agent to use Define the tools for the agent to use This means that after tools is called, agent node is called next. workflow.add_edge(\\\"tools\\\", 'agent') Normal edge: after the tools are invoked, the graph should always return to the agent to decide what to do next LangGraph adds the input message to the internal state, then passes the state to the entrypoint node, \\\"agent\\\".\", \"score\": 0.8987045}, {\"title\": \"LangGraph - LangChain\", \"url\": \"https://www.langchain.com/langgraph\", \"content\": \"Build and scale agentic applications with LangGraph Platform. Design agent-driven user experiences with LangGraph Platform's APIs. Quickly deploy and scale your application with infrastructure built for agents. LangGraph sets the foundation for how we can build and scale AI workloads — from conversational agents, complex task automation, to custom LLM-backed experiences that 'just work'. The next chapter in building complex production-ready features with LLMs is agentic, and with LangGraph and LangSmith, LangChain delivers an out-of-the-box solution to iterate quickly, debug immediately, and scale effortlessly.” LangGraph sets the foundation for how we can build and scale AI workloads — from conversational agents, complex task automation, to custom LLM-backed experiences that 'just work'. LangGraph Platform is a service for deploying and scaling LangGraph applications, with an opinionated API for building agent UXs, plus an integrated developer studio.\", \"score\": 0.80089486}]\n",
      "==================================\u001b[1m Ai Message \u001b[0m==================================\n",
      "\n",
      "1. [LangGraph](https://github.com/langchain-ai/langgraph) is a library for building stateful, multi-actor applications with LLMs (large language models), used to create agent and multi-agent workflows.\n",
      "2. LangGraph Platform by LangChain allows you to build and scale agentic applications, design agent-driven user experiences, and quickly deploy and scale your application with infrastructure built for agents. It sets the foundation for building and scaling AI workloads, including conversational agents, complex task automation, and custom LLM-backed experiences that 'just work'. The LangGraph Platform provides an API for building agent UXs, as well as an integrated developer studio for easier development and scaling of your applications.\n"
     ]
    }
   ],
   "source": [
    "config = {\"configurable\": {\"thread_id\": \"1\"}}\n",
    "events = graph.stream(\n",
    "    {\n",
    "        \"messages\": [\n",
    "            {\n",
    "                \"role\": \"user\",\n",
    "                \"content\": (\n",
    "                    \"I'm learning LangGraph. \"\n",
    "                    \"Could you do some research on it for me?\"\n",
    "                ),\n",
    "            },\n",
    "        ],\n",
    "    },\n",
    "    config,\n",
    "    stream_mode=\"values\",\n",
    ")\n",
    "for event in events:\n",
    "    if \"messages\" in event:\n",
    "        event[\"messages\"][-1].pretty_print()"
   ]
  },
  {
   "cell_type": "code",
   "execution_count": 92,
   "metadata": {},
   "outputs": [
    {
     "name": "stdout",
     "output_type": "stream",
     "text": [
      "================================\u001b[1m Human Message \u001b[0m=================================\n",
      "\n",
      "Ya that's helpful. Maybe I'll build an autonomous agent with it!\n",
      "==================================\u001b[1m Ai Message \u001b[0m==================================\n",
      "\n",
      " That sounds like a great project! If you need any help or have questions along the way, feel free to ask. Good luck with your agent building journey!\n"
     ]
    }
   ],
   "source": [
    "events = graph.stream(\n",
    "    {\n",
    "        \"messages\": [\n",
    "            {\n",
    "                \"role\": \"user\",\n",
    "                \"content\": (\n",
    "                    \"Ya that's helpful. Maybe I'll \"\n",
    "                    \"build an autonomous agent with it!\"\n",
    "                ),\n",
    "            },\n",
    "        ],\n",
    "    },\n",
    "    config,\n",
    "    stream_mode=\"values\",\n",
    ")\n",
    "for event in events:\n",
    "    if \"messages\" in event:\n",
    "        event[\"messages\"][-1].pretty_print()"
   ]
  },
  {
   "cell_type": "code",
   "execution_count": 93,
   "metadata": {},
   "outputs": [
    {
     "name": "stdout",
     "output_type": "stream",
     "text": [
      "Num Messages:  6 Next:  ()\n",
      "--------------------------------------------------------------------------------\n",
      "Num Messages:  5 Next:  ('chatbot',)\n",
      "--------------------------------------------------------------------------------\n",
      "Num Messages:  4 Next:  ('__start__',)\n",
      "--------------------------------------------------------------------------------\n",
      "Num Messages:  4 Next:  ()\n",
      "--------------------------------------------------------------------------------\n",
      "Num Messages:  3 Next:  ('chatbot',)\n",
      "--------------------------------------------------------------------------------\n",
      "Num Messages:  2 Next:  ('tools',)\n",
      "--------------------------------------------------------------------------------\n",
      "Num Messages:  1 Next:  ('chatbot',)\n",
      "--------------------------------------------------------------------------------\n",
      "Num Messages:  0 Next:  ('__start__',)\n",
      "--------------------------------------------------------------------------------\n"
     ]
    }
   ],
   "source": [
    "to_replay = None\n",
    "for state in graph.get_state_history(config):\n",
    "    print(\"Num Messages: \", len(state.values[\"messages\"]), \"Next: \", state.next)\n",
    "    print(\"-\" * 80)\n",
    "    if len(state.values[\"messages\"]) == 6:\n",
    "        # We are somewhat arbitrarily selecting a specific state based on the number of chat messages in the state.\n",
    "        to_replay = state"
   ]
  },
  {
   "cell_type": "code",
   "execution_count": 94,
   "metadata": {},
   "outputs": [
    {
     "name": "stdout",
     "output_type": "stream",
     "text": [
      "()\n",
      "{'configurable': {'thread_id': '1', 'checkpoint_ns': '', 'checkpoint_id': '1f000718-eae2-6d28-8006-8765c243487f'}}\n"
     ]
    }
   ],
   "source": [
    "print(to_replay.next)\n",
    "print(to_replay.config)"
   ]
  },
  {
   "cell_type": "code",
   "execution_count": 95,
   "metadata": {},
   "outputs": [
    {
     "name": "stdout",
     "output_type": "stream",
     "text": [
      "==================================\u001b[1m Ai Message \u001b[0m==================================\n",
      "\n",
      " That sounds like a great project! If you need any help or have questions along the way, feel free to ask. Good luck with your agent building journey!\n"
     ]
    }
   ],
   "source": [
    "# The `checkpoint_id` in the `to_replay.config` corresponds to a state we've persisted to our checkpointer.\n",
    "for event in graph.stream(None, to_replay.config, stream_mode=\"values\"):\n",
    "    if \"messages\" in event:\n",
    "        event[\"messages\"][-1].pretty_print()"
   ]
  },
  {
   "cell_type": "code",
   "execution_count": null,
   "metadata": {},
   "outputs": [],
   "source": []
  }
 ],
 "metadata": {
  "kernelspec": {
   "display_name": ".venv",
   "language": "python",
   "name": "python3"
  },
  "language_info": {
   "codemirror_mode": {
    "name": "ipython",
    "version": 3
   },
   "file_extension": ".py",
   "mimetype": "text/x-python",
   "name": "python",
   "nbconvert_exporter": "python",
   "pygments_lexer": "ipython3",
   "version": "3.12.9"
  }
 },
 "nbformat": 4,
 "nbformat_minor": 2
}
