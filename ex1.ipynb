{
 "cells": [
  {
   "cell_type": "code",
   "execution_count": 1,
   "metadata": {},
   "outputs": [
    {
     "name": "stdout",
     "output_type": "stream",
     "text": [
      "Collecting ollama\n",
      "  Using cached ollama-0.4.7-py3-none-any.whl.metadata (4.7 kB)\n",
      "Collecting httpx<0.29,>=0.27 (from ollama)\n",
      "  Using cached httpx-0.28.1-py3-none-any.whl.metadata (7.1 kB)\n",
      "Collecting pydantic<3.0.0,>=2.9.0 (from ollama)\n",
      "  Using cached pydantic-2.10.6-py3-none-any.whl.metadata (30 kB)\n",
      "Collecting anyio (from httpx<0.29,>=0.27->ollama)\n",
      "  Using cached anyio-4.8.0-py3-none-any.whl.metadata (4.6 kB)\n",
      "Collecting certifi (from httpx<0.29,>=0.27->ollama)\n",
      "  Using cached certifi-2025.1.31-py3-none-any.whl.metadata (2.5 kB)\n",
      "Collecting httpcore==1.* (from httpx<0.29,>=0.27->ollama)\n",
      "  Using cached httpcore-1.0.7-py3-none-any.whl.metadata (21 kB)\n",
      "Collecting idna (from httpx<0.29,>=0.27->ollama)\n",
      "  Using cached idna-3.10-py3-none-any.whl.metadata (10 kB)\n",
      "Collecting h11<0.15,>=0.13 (from httpcore==1.*->httpx<0.29,>=0.27->ollama)\n",
      "  Using cached h11-0.14.0-py3-none-any.whl.metadata (8.2 kB)\n",
      "Collecting annotated-types>=0.6.0 (from pydantic<3.0.0,>=2.9.0->ollama)\n",
      "  Using cached annotated_types-0.7.0-py3-none-any.whl.metadata (15 kB)\n",
      "Collecting pydantic-core==2.27.2 (from pydantic<3.0.0,>=2.9.0->ollama)\n",
      "  Using cached pydantic_core-2.27.2-cp312-cp312-macosx_10_12_x86_64.whl.metadata (6.6 kB)\n",
      "Collecting typing-extensions>=4.12.2 (from pydantic<3.0.0,>=2.9.0->ollama)\n",
      "  Using cached typing_extensions-4.12.2-py3-none-any.whl.metadata (3.0 kB)\n",
      "Collecting sniffio>=1.1 (from anyio->httpx<0.29,>=0.27->ollama)\n",
      "  Using cached sniffio-1.3.1-py3-none-any.whl.metadata (3.9 kB)\n",
      "Using cached ollama-0.4.7-py3-none-any.whl (13 kB)\n",
      "Using cached httpx-0.28.1-py3-none-any.whl (73 kB)\n",
      "Using cached httpcore-1.0.7-py3-none-any.whl (78 kB)\n",
      "Using cached pydantic-2.10.6-py3-none-any.whl (431 kB)\n",
      "Using cached pydantic_core-2.27.2-cp312-cp312-macosx_10_12_x86_64.whl (1.9 MB)\n",
      "Using cached annotated_types-0.7.0-py3-none-any.whl (13 kB)\n",
      "Using cached typing_extensions-4.12.2-py3-none-any.whl (37 kB)\n",
      "Using cached anyio-4.8.0-py3-none-any.whl (96 kB)\n",
      "Using cached idna-3.10-py3-none-any.whl (70 kB)\n",
      "Using cached certifi-2025.1.31-py3-none-any.whl (166 kB)\n",
      "Using cached h11-0.14.0-py3-none-any.whl (58 kB)\n",
      "Using cached sniffio-1.3.1-py3-none-any.whl (10 kB)\n",
      "Installing collected packages: typing-extensions, sniffio, idna, h11, certifi, annotated-types, pydantic-core, httpcore, anyio, pydantic, httpx, ollama\n",
      "Successfully installed annotated-types-0.7.0 anyio-4.8.0 certifi-2025.1.31 h11-0.14.0 httpcore-1.0.7 httpx-0.28.1 idna-3.10 ollama-0.4.7 pydantic-2.10.6 pydantic-core-2.27.2 sniffio-1.3.1 typing-extensions-4.12.2\n",
      "Note: you may need to restart the kernel to use updated packages.\n"
     ]
    }
   ],
   "source": [
    "%pip install ollama"
   ]
  },
  {
   "cell_type": "markdown",
   "metadata": {},
   "source": [
    "# ollama % ollama pull gemma3"
   ]
  },
  {
   "cell_type": "code",
   "execution_count": 3,
   "metadata": {},
   "outputs": [
    {
     "name": "stdout",
     "output_type": "stream",
     "text": [
      "하늘이 파란 이유는 '레일리 산란(Rayleigh scattering)'이라는 현상 때문입니다. 좀 더 자세히 설명해 드릴게요.\n",
      "\n",
      "**1. 햇빛과 색상:**\n",
      "\n",
      "* 햇빛은 사실 여러 색깔의 빛이 섞여 있습니다. 빨간색, 주황색, 노란색, 초록색, 파란색, 보라색 등 다양한 색깔의 빛이 모두 포함되어 있죠.\n",
      "* 우리가 햇빛을 보거나 느껴지는 이유는 이 다양한 색깔의 빛들이 서로 영향을 주면서 우리 눈에 보이는 빛으로 만들어지기 때문입니다.\n",
      "\n",
      "**2. 레일리 산란:**\n",
      "\n",
      "* 대기 중에는 산소 분자와 같은 작은 입자들이 많이 존재합니다.\n",
      "* 햇빛이 이 작은 입자들을 만나면 빛이 사방으로 흩어지는 현상이 일어납니다. 이를 '산란'이라고 합니다.\n",
      "* 이 산란은 빛의 파장에 따라 다르게 일어납니다. 파장이 짧은 빛(파란색, 보라색)은 파장이 긴 빛(빨간색, 주황색)보다 훨씬 더 잘 산란됩니다.\n",
      "* 즉, 파란색 빛은 다른 색깔의 빛보다 대기 중의 입자들과 더 많이 부딪혀서 사방으로 흩어집니다.\n",
      "\n",
      "**3. 왜 파란색이 아니라 보라색인가?**\n",
      "\n",
      "* 보라색 빛은 파란색 빛보다 더 잘 산란될 수 있지만, 다음과 같은 이유로 하늘이 파란색으로 보이는 것입니다.\n",
      "    * **태양 빛의 성분:** 태양에서 나오는 빛 자체에 파란색 빛의 양이 더 많습니다.\n",
      "    * **우리 눈의 민감도:** 우리 눈은 파란색 빛에 더 민감하게 반응합니다.\n",
      "    * **대기 중의 흡수:** 보라색 빛은 대기 중의 오존층 등에 의해 더 많이 흡수됩니다.\n",
      "\n",
      "**결론적으로, 햇빛이 대기 중의 작은 입자들과 부딪혀서 산란되면서, 파장이 짧은 파란색 빛이 더 많이 사방으로 흩어져 우리 눈에 들어오기 때문에 하늘이 파랗게 보이는 것입니다.**\n",
      "\n",
      "**참고:**\n",
      "\n",
      "* 해질녘에는 태양 빛이 대기층을 더 긴 거리를 통과하기 때문에 파란색 빛은 대부분 산란되어 사라지고, 빨간색 빛이 우리 눈에 더 많이 들어오기 때문에 하늘이 붉게 보이는 것입니다.\n",
      "\n",
      "더 궁금한 점이 있으시면 언제든지 질문해주세요!\n",
      "하늘이 파란 이유는 '레일리 산란(Rayleigh scattering)'이라는 현상 때문입니다. 좀 더 자세히 설명해 드릴게요.\n",
      "\n",
      "**1. 햇빛과 색상:**\n",
      "\n",
      "* 햇빛은 사실 여러 색깔의 빛이 섞여 있습니다. 빨간색, 주황색, 노란색, 초록색, 파란색, 보라색 등 다양한 색깔의 빛이 모두 포함되어 있죠.\n",
      "* 우리가 햇빛을 보거나 느껴지는 이유는 이 다양한 색깔의 빛들이 서로 영향을 주면서 우리 눈에 보이는 빛으로 만들어지기 때문입니다.\n",
      "\n",
      "**2. 레일리 산란:**\n",
      "\n",
      "* 대기 중에는 산소 분자와 같은 작은 입자들이 많이 존재합니다.\n",
      "* 햇빛이 이 작은 입자들을 만나면 빛이 사방으로 흩어지는 현상이 일어납니다. 이를 '산란'이라고 합니다.\n",
      "* 이 산란은 빛의 파장에 따라 다르게 일어납니다. 파장이 짧은 빛(파란색, 보라색)은 파장이 긴 빛(빨간색, 주황색)보다 훨씬 더 잘 산란됩니다.\n",
      "* 즉, 파란색 빛은 다른 색깔의 빛보다 대기 중의 입자들과 더 많이 부딪혀서 사방으로 흩어집니다.\n",
      "\n",
      "**3. 왜 파란색이 아니라 보라색인가?**\n",
      "\n",
      "* 보라색 빛은 파란색 빛보다 더 잘 산란될 수 있지만, 다음과 같은 이유로 하늘이 파란색으로 보이는 것입니다.\n",
      "    * **태양 빛의 성분:** 태양에서 나오는 빛 자체에 파란색 빛의 양이 더 많습니다.\n",
      "    * **우리 눈의 민감도:** 우리 눈은 파란색 빛에 더 민감하게 반응합니다.\n",
      "    * **대기 중의 흡수:** 보라색 빛은 대기 중의 오존층 등에 의해 더 많이 흡수됩니다.\n",
      "\n",
      "**결론적으로, 햇빛이 대기 중의 작은 입자들과 부딪혀서 산란되면서, 파장이 짧은 파란색 빛이 더 많이 사방으로 흩어져 우리 눈에 들어오기 때문에 하늘이 파랗게 보이는 것입니다.**\n",
      "\n",
      "**참고:**\n",
      "\n",
      "* 해질녘에는 태양 빛이 대기층을 더 긴 거리를 통과하기 때문에 파란색 빛은 대부분 산란되어 사라지고, 빨간색 빛이 우리 눈에 더 많이 들어오기 때문에 하늘이 붉게 보이는 것입니다.\n",
      "\n",
      "더 궁금한 점이 있으시면 언제든지 질문해주세요!\n"
     ]
    }
   ],
   "source": [
    "from ollama import chat\n",
    "from ollama import ChatResponse\n",
    "\n",
    "response: ChatResponse = chat(model='gemma3', messages=[\n",
    "  {\n",
    "    'role': 'user',\n",
    "    'content': '하늘은 왜 파란가?',\n",
    "  },\n",
    "])\n",
    "print(response['message']['content'])\n",
    "# or access fields directly from the response object\n",
    "print(response.message.content)"
   ]
  },
  {
   "cell_type": "code",
   "execution_count": 4,
   "metadata": {},
   "outputs": [
    {
     "name": "stdout",
     "output_type": "stream",
     "text": [
      "서울에서 부산까지의 거리는 다음과 같이 달라질 수 있습니다.\n",
      "\n",
      "*   **KTX (고속철도):** 약 2시간 30분 ~ 3시간 소요 (약 360km)\n",
      "*   **자동차:** 고속도로를 이용하면 약 5시간 ~ 6시간 소요 (약 400km)\n",
      "*   **항공기:** 약 1시간 15분 ~ 1시간 30분 소요 (약 660km, 직선 거리)\n",
      "\n",
      "**참고:** 위 시간은 교통 상황, 정차 시간 등에 따라 달라질 수 있습니다."
     ]
    }
   ],
   "source": [
    "from ollama import chat\n",
    "\n",
    "stream = chat(\n",
    "    model='gemma3',\n",
    "    messages=[{'role': 'user', 'content': '서울에서 부산까지 거리는?'}],\n",
    "    stream=True,\n",
    ")\n",
    "\n",
    "for chunk in stream:\n",
    "  print(chunk['message']['content'], end='', flush=True)"
   ]
  },
  {
   "cell_type": "code",
   "execution_count": 6,
   "metadata": {},
   "outputs": [
    {
     "name": "stdout",
     "output_type": "stream",
     "text": [
      "model='gemma3' created_at='2025-03-12T22:46:17.265197Z' done=True done_reason='stop' total_duration=70536445844 load_duration=44996753 prompt_eval_count=15 prompt_eval_duration=119000000 eval_count=620 eval_duration=70371000000 message=Message(role='assistant', content=\"Okay, this is a classic question with a surprisingly complex answer! The short answer is that the sky is blue because of a phenomenon called **Rayleigh Scattering**. Here's a breakdown of the science behind it:\\n\\n**1. Sunlight and Colors:**\\n\\n* Sunlight appears white, but it's actually made up of all the colors of the rainbow – red, orange, yellow, green, blue, indigo, and violet.  Think of a prism splitting light.\\n\\n**2. Rayleigh Scattering:**\\n\\n* **What it is:** When sunlight enters the Earth's atmosphere, it collides with tiny air molecules (mostly nitrogen and oxygen). This collision causes the light to scatter in different directions.\\n* **Wavelength Matters:**  Crucially, *shorter wavelengths of light are scattered much more effectively than longer wavelengths.*  Blue and violet light have shorter wavelengths than red and orange light.\\n* **Think of it like this:** Imagine throwing a small ball (blue light) and a large ball (red light) at a bumpy surface. The small ball is much more likely to bounce off in random directions.\\n\\n**3. Why Blue Specifically?**\\n\\n* **More Scattering:** Because blue and violet light have shorter wavelengths, they are scattered about 10 times more strongly than red light.\\n* **Our Eyes and Perception:**  While violet light is scattered even *more* than blue, our eyes are more sensitive to blue light, and the sun emits slightly less violet light.  Therefore, we perceive the sky as blue.\\n\\n**4. Sunsets and Sunrises (Why Red/Orange?):**\\n\\n* As the sun gets lower on the horizon (at sunrise and sunset), the sunlight has to travel through *much* more of the atmosphere.\\n* This longer path means that most of the blue light has already been scattered away.\\n* The remaining light that reaches our eyes is predominantly the longer wavelengths – red and orange – which haven’t been scattered as much.\\n\\n\\n**In simpler terms:**\\n\\nThe atmosphere is like a giant, bumpy scattering machine. Blue light bounces around everywhere, making the sky appear blue to us.\\n\\n---\\n\\n**Resources for Further Learning:**\\n\\n* **NASA:** [https://science.nasa.gov/sky-and-telescope/observing/seeing/why-is-the-sky-blue/](https://science.nasa.gov/sky-and-telescope/observing/seeing/why-is-the-sky-blue/)\\n* **National Geographic:** [https://www.nationalgeographic.com/science/phenomena/sky-blue/](https://www.nationalgeographic.com/science/phenomena/sky-blue/)\\n\\n\\nDo you want me to delve into any specific aspect of this explanation, such as:\\n\\n*   The role of different gases in the atmosphere?\\n*   How this affects different colors of light?\\n*   How this relates to other scattering phenomena (like why sunsets are so beautiful)?\", images=None, tool_calls=None)\n"
     ]
    }
   ],
   "source": [
    "from ollama import Client\n",
    "client = Client(\n",
    "  host='http://localhost:11434',\n",
    "  headers={'x-some-header': 'some-value'}\n",
    ")\n",
    "response = client.chat(model='gemma3', messages=[\n",
    "  {\n",
    "    'role': 'user',\n",
    "    'content': 'Why is the sky blue?',\n",
    "  },\n",
    "])\n",
    "print(response)"
   ]
  },
  {
   "cell_type": "code",
   "execution_count": 11,
   "metadata": {},
   "outputs": [
    {
     "name": "stdout",
     "output_type": "stream",
     "text": [
      "model='gemma3' created_at='2025-03-12T22:52:15.548071Z' done=True done_reason='stop' total_duration=27277542462 load_duration=48720809 prompt_eval_count=24 prompt_eval_duration=117000000 eval_count=242 eval_duration=27110000000 message=Message(role='assistant', content='물과 알코올의 끓는 온도 중 **알코올이 더 높습니다**. 그 이유는 다음과 같습니다.\\n\\n*   **분자 간 힘:** 물 분자는 극성으로 인해 강한 수소 결합을 형성합니다. 이 수소 결합은 많은 에너지를 필요로 하여 물이 끓기 위해 많은 열을 흡수해야 합니다. 반면, 알코올 분자는 극성이 약하여 수소 결합이 약하고, 분자 간 힘이 약하기 때문에 끓는 온도가 낮습니다.\\n*   **분자량:** 알코올의 분자량은 물보다 크기 때문에 분자 간 인력이 더 강하게 작용하여 끓는 온도가 높아집니다.\\n\\n**일반적인 끓는점 비교:**\\n\\n*   **물:** 100℃\\n*   **에탄올 (알코올):** 약 78.3℃ (순수 에탄올 기준)\\n\\n**참고:** 알코올의 끓는점은 순도에 따라 달라질 수 있습니다.\\n\\n더 궁금한 점이 있으시면 언제든지 질문해주세요.', images=None, tool_calls=None)\n"
     ]
    }
   ],
   "source": [
    "import nest_asyncio\n",
    "import asyncio\n",
    "from ollama import AsyncClient\n",
    "\n",
    "nest_asyncio.apply()\n",
    "\n",
    "async def chat():\n",
    "  message = {'role': 'user', 'content': '물과 알콜의 끓는 온도는 어떤것이 높아?'}\n",
    "  response = await AsyncClient().chat(model='gemma3', messages=[message])\n",
    "  print(response)\n",
    "\n",
    "asyncio.run(chat())"
   ]
  },
  {
   "cell_type": "code",
   "execution_count": 13,
   "metadata": {},
   "outputs": [
    {
     "name": "stdout",
     "output_type": "stream",
     "text": [
      "바닷물의 주요 성분은 다음과 같습니다.\n",
      "\n",
      "**1. 용존 염류 (Dissolved Salts): 약 3.5% 정도 차지**\n",
      "\n",
      "*   **염화나트륨 (NaCl):** 바닷물의 가장 주요한 성분으로, 약 70~87%를 차지합니다. '소금'이라고도 불립니다.\n",
      "*   **마그네슘 염 (MgCl₂):** 염화마그네슘으로, 약 11~18%를 차지합니다.\n",
      "*   **칼슘 염 (CaCO₃, CaCl₂ 등):** 탄산칼슘, 염화칼슘 등 다양한 형태로 존재하며, 약 3~11%를 차지합니다.\n",
      "*   **기타 미량 염류:** 브로마이드(NaBr), 황산염(MgSO₄), 클로라이드(KCl) 등 다양한 미량 염류가 존재합니다.\n",
      "\n",
      "**2. 기타 용존 물질**\n",
      "\n",
      "*   **이산화탄소 (CO₂):** 바닷물은 대기 중의 이산화탄소를 흡수하여 용해되어 있습니다.\n",
      "*   **질소 (N₂), 산소 (O₂):** 물 분자와 결합하여 용해된 상태로 존재합니다.\n",
      "*   **유기물:** 해양 생물, 퇴적물 등에서 유래된 유기물이 용해되어 있습니다.\n",
      "*   **규산염 (Silicates):** 해양 생물의 껍데기 구성 성분인 규산염이 용해되어 있습니다.\n",
      "*   **금속 이온:** 마그네슘, 철, 알루미늄 등 다양한 금속 이온이 용해되어 있습니다.\n",
      "\n",
      "**참고:**\n",
      "\n",
      "*   바닷물의 염분 농도는 지역에 따라 다르며, 해류, 강수량, 기온 등에 영향을 받습니다.\n",
      "*   바닷물의 성분은 해양 생태계에 중요한 영향을 미치며, 해양 생물의 생존과 성장에 필수적인 요소입니다.\n",
      "\n",
      "더 궁금한 점이 있다면 언제든지 질문해주세요."
     ]
    }
   ],
   "source": [
    "import asyncio\n",
    "from ollama import AsyncClient\n",
    "\n",
    "async def chat():\n",
    "  message = {'role': 'user', 'content': '바닷물의 주요 성분들을 알려줘?'}\n",
    "  async for part in await AsyncClient().chat(model='gemma3', messages=[message], stream=True):\n",
    "    print(part['message']['content'], end='', flush=True)\n",
    "\n",
    "asyncio.run(chat())"
   ]
  },
  {
   "cell_type": "code",
   "execution_count": 15,
   "metadata": {},
   "outputs": [
    {
     "data": {
      "text/plain": [
       "ChatResponse(model='gemma3', created_at='2025-03-12T22:57:03.711425Z', done=True, done_reason='stop', total_duration=70797507533, load_duration=43863031, prompt_eval_count=15, prompt_eval_duration=310000000, eval_count=596, eval_duration=70442000000, message=Message(role='assistant', content=\"Okay, let's break down why the sky is blue – it's a fascinating phenomenon called **Rayleigh scattering**.\\n\\nHere's the explanation in a way that's hopefully easy to understand:\\n\\n**1. Sunlight and Colors:**\\n\\n* Sunlight actually isn't white. It’s made up of *all* the colors of the rainbow – red, orange, yellow, green, blue, indigo, and violet. You can see this when light passes through a prism and splits into its constituent colors.\\n\\n**2. Entering the Atmosphere:**\\n\\n* When sunlight enters the Earth's atmosphere, it bumps into tiny air molecules (mostly nitrogen and oxygen).\\n\\n**3. Rayleigh Scattering – The Key Process:**\\n\\n* **Rayleigh scattering** is the scattering of electromagnetic radiation (like sunlight) by particles of a much smaller wavelength.  In this case, the air molecules are much smaller than the wavelengths of visible light.\\n* **Shorter wavelengths scatter *more* than longer wavelengths.**  This is the crucial part. Blue and violet light have shorter wavelengths than red and orange light. Because of this, blue and violet light are scattered *much* more strongly in all directions by the air molecules.\\n\\n**4. Why Blue, Not Violet?**\\n\\n* Violet light is actually scattered even *more* than blue light. However, there are a couple of reasons why we see a blue sky instead of a violet one:\\n    * **Sunlight emits less violet light:** The sun emits less violet light to begin with.\\n    * **Our eyes are more sensitive to blue:** Our eyes are more sensitive to blue light than violet light.\\n\\n\\n**Think of it like this:** Imagine throwing a small ball (blue light) and a large ball (red light) at a bumpy surface. The small ball is more likely to bounce off in all directions, while the large ball is more likely to continue straight.\\n\\n**What about sunsets?**\\n\\nAt sunset and sunrise, the sunlight has to travel through *much* more of the atmosphere to reach our eyes.  Because the blue light has been scattered away along the way, the longer wavelengths (red and orange) are able to make it through, giving us those beautiful sunset colors.\\n\\n\\n\\n**Resources for Further Learning:**\\n\\n* **NASA Explanation:** [https://science.nasa.gov/sky-science/why-is-the-sky-blue/](https://science.nasa.gov/sky-science/why-is-the-sky-blue/)\\n* **HowStuffWorks:** [https://www.howstuffworks.com/sky-blue.html](https://www.howstuffworks.com/sky-blue.html)\\n\\n\\nDo you want me to delve into any specific aspect of this explanation, such as:\\n\\n*   The math behind Rayleigh scattering?\\n*   How this affects other planets?\", images=None, tool_calls=None))"
      ]
     },
     "execution_count": 15,
     "metadata": {},
     "output_type": "execute_result"
    }
   ],
   "source": [
    "import ollama\n",
    "\n",
    "ollama.chat(model='gemma3', messages=[{'role': 'user', 'content': 'Why is the sky blue?'}])"
   ]
  }
 ],
 "metadata": {
  "kernelspec": {
   "display_name": ".venv",
   "language": "python",
   "name": "python3"
  },
  "language_info": {
   "codemirror_mode": {
    "name": "ipython",
    "version": 3
   },
   "file_extension": ".py",
   "mimetype": "text/x-python",
   "name": "python",
   "nbconvert_exporter": "python",
   "pygments_lexer": "ipython3",
   "version": "3.12.9"
  }
 },
 "nbformat": 4,
 "nbformat_minor": 2
}
